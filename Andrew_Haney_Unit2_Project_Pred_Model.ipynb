{
  "nbformat": 4,
  "nbformat_minor": 0,
  "metadata": {
    "colab": {
      "name": "Copy of Andrew_Haney_Unit2_Project_Pred_Model.ipynb",
      "provenance": [],
      "collapsed_sections": [],
      "authorship_tag": "ABX9TyPiFW/Fy9/8WnH+4k76Up+c",
      "include_colab_link": true
    },
    "kernelspec": {
      "name": "python3",
      "display_name": "Python 3"
    },
    "language_info": {
      "name": "python"
    }
  },
  "cells": [
    {
      "cell_type": "markdown",
      "metadata": {
        "id": "view-in-github",
        "colab_type": "text"
      },
      "source": [
        "<a href=\"https://colab.research.google.com/github/Andrew-Haney/DS-Unit-2-Linear-Models/blob/master/Andrew_Haney_Unit2_Project_Pred_Model.ipynb\" target=\"_parent\"><img src=\"https://colab.research.google.com/assets/colab-badge.svg\" alt=\"Open In Colab\"/></a>"
      ]
    },
    {
      "cell_type": "code",
      "metadata": {
        "id": "I8qrR1D6vuEE",
        "colab": {
          "base_uri": "https://localhost:8080/"
        },
        "outputId": "288407ce-3991-466b-c3cc-3f5657631c88"
      },
      "source": [
        "import sys\n",
        "!pip install category_encoders\n",
        "\n",
        "import pandas as pd\n",
        "import numpy as np\n",
        "import matplotlib.pyplot as plt\n",
        "from sklearn.model_selection import train_test_split\n",
        "from sklearn.pipeline import make_pipeline\n",
        "from category_encoders import OneHotEncoder, OrdinalEncoder\n",
        "from sklearn.ensemble import RandomForestClassifier\n",
        "from sklearn.impute import SimpleImputer\n",
        "from sklearn.metrics import plot_confusion_matrix, classification_report\n",
        "from sklearn.metrics import roc_curve, roc_auc_score\n",
        "\n",
        "\n",
        "cols = ['ID', 'Age', 'Gender', 'Education', 'Country', 'Ethnicity', 'NScore_Neuroticism',\n",
        "        'EScore_Extraversion', 'OScore_Open_to_Exp', 'AScore_Agreeableness',\n",
        "        'CScore_Conscientiousness', 'Impulsiveness', 'Sensation_Seeing', 'Alcohol',\n",
        "        'Amphetamine', 'Amyl', 'Benzos', 'Caffeine', 'Cannabis', 'Chocolate', 'Cocaine',\n",
        "        'Crack', 'Ecstasy', 'Heroin', 'Ketamine', 'Legal_Highs', 'LSD', 'Meth', \n",
        "        'Mushrooms', 'Nicotine', 'Semeron', 'VSA']\n",
        "df = pd.read_csv('/content/drug_consumption.data',\n",
        "                 header = 0, names= cols, index_col = 'ID',\n",
        "                 dtype= 'object')"
      ],
      "execution_count": 149,
      "outputs": [
        {
          "output_type": "stream",
          "text": [
            "Requirement already satisfied: category_encoders in /usr/local/lib/python3.7/dist-packages (2.2.2)\n",
            "Requirement already satisfied: statsmodels>=0.9.0 in /usr/local/lib/python3.7/dist-packages (from category_encoders) (0.10.2)\n",
            "Requirement already satisfied: pandas>=0.21.1 in /usr/local/lib/python3.7/dist-packages (from category_encoders) (1.1.5)\n",
            "Requirement already satisfied: patsy>=0.5.1 in /usr/local/lib/python3.7/dist-packages (from category_encoders) (0.5.1)\n",
            "Requirement already satisfied: numpy>=1.14.0 in /usr/local/lib/python3.7/dist-packages (from category_encoders) (1.19.5)\n",
            "Requirement already satisfied: scipy>=1.0.0 in /usr/local/lib/python3.7/dist-packages (from category_encoders) (1.4.1)\n",
            "Requirement already satisfied: scikit-learn>=0.20.0 in /usr/local/lib/python3.7/dist-packages (from category_encoders) (0.22.2.post1)\n",
            "Requirement already satisfied: pytz>=2017.2 in /usr/local/lib/python3.7/dist-packages (from pandas>=0.21.1->category_encoders) (2018.9)\n",
            "Requirement already satisfied: python-dateutil>=2.7.3 in /usr/local/lib/python3.7/dist-packages (from pandas>=0.21.1->category_encoders) (2.8.1)\n",
            "Requirement already satisfied: six in /usr/local/lib/python3.7/dist-packages (from patsy>=0.5.1->category_encoders) (1.15.0)\n",
            "Requirement already satisfied: joblib>=0.11 in /usr/local/lib/python3.7/dist-packages (from scikit-learn>=0.20.0->category_encoders) (1.0.1)\n"
          ],
          "name": "stdout"
        }
      ]
    },
    {
      "cell_type": "code",
      "metadata": {
        "id": "zrh0Iwdhv80h"
      },
      "source": [
        "def wrangle(df):\n",
        "  cutoff = 500\n",
        "  hcc_cols = [col for col in df.select_dtypes('object').columns\n",
        "              if df[col].nunique() > cutoff]\n",
        "  df.drop(columns=hcc_cols, inplace=True)\n",
        "  single_cols = [col for col in df.select_dtypes('object').columns\n",
        "              if df[col].nunique() == 1]\n",
        "  df.drop(columns= single_cols, inplace= True)\n",
        "  return df\n",
        "\n",
        "  df = wrangle(df)"
      ],
      "execution_count": 150,
      "outputs": []
    },
    {
      "cell_type": "code",
      "metadata": {
        "colab": {
          "base_uri": "https://localhost:8080/"
        },
        "id": "gBJgXIJTwEqE",
        "outputId": "6f23a543-164b-4909-9aee-f4d3f71e617f"
      },
      "source": [
        "df.info()"
      ],
      "execution_count": 151,
      "outputs": [
        {
          "output_type": "stream",
          "text": [
            "<class 'pandas.core.frame.DataFrame'>\n",
            "Int64Index: 1884 entries, 2 to 1888\n",
            "Data columns (total 31 columns):\n",
            " #   Column                    Non-Null Count  Dtype \n",
            "---  ------                    --------------  ----- \n",
            " 0   Age                       1884 non-null   object\n",
            " 1   Gender                    1884 non-null   object\n",
            " 2   Education                 1884 non-null   object\n",
            " 3   Country                   1884 non-null   object\n",
            " 4   Ethnicity                 1884 non-null   object\n",
            " 5   NScore_Neuroticism        1884 non-null   object\n",
            " 6   EScore_Extraversion       1884 non-null   object\n",
            " 7   OScore_Open_to_Exp        1884 non-null   object\n",
            " 8   AScore_Agreeableness      1884 non-null   object\n",
            " 9   CScore_Conscientiousness  1884 non-null   object\n",
            " 10  Impulsiveness             1884 non-null   object\n",
            " 11  Sensation_Seeing          1884 non-null   object\n",
            " 12  Alcohol                   1884 non-null   object\n",
            " 13  Amphetamine               1884 non-null   object\n",
            " 14  Amyl                      1884 non-null   object\n",
            " 15  Benzos                    1884 non-null   object\n",
            " 16  Caffeine                  1884 non-null   object\n",
            " 17  Cannabis                  1884 non-null   object\n",
            " 18  Chocolate                 1884 non-null   object\n",
            " 19  Cocaine                   1884 non-null   object\n",
            " 20  Crack                     1884 non-null   object\n",
            " 21  Ecstasy                   1884 non-null   object\n",
            " 22  Heroin                    1884 non-null   object\n",
            " 23  Ketamine                  1884 non-null   object\n",
            " 24  Legal_Highs               1884 non-null   object\n",
            " 25  LSD                       1884 non-null   object\n",
            " 26  Meth                      1884 non-null   object\n",
            " 27  Mushrooms                 1884 non-null   object\n",
            " 28  Nicotine                  1884 non-null   object\n",
            " 29  Semeron                   1884 non-null   object\n",
            " 30  VSA                       1884 non-null   object\n",
            "dtypes: object(31)\n",
            "memory usage: 471.0+ KB\n"
          ],
          "name": "stdout"
        }
      ]
    },
    {
      "cell_type": "code",
      "metadata": {
        "colab": {
          "base_uri": "https://localhost:8080/",
          "height": 253
        },
        "id": "X3vgf7-dxwcw",
        "outputId": "8f7b9475-0516-4d15-bae0-d7bfa6938a44"
      },
      "source": [
        "df.head()"
      ],
      "execution_count": 152,
      "outputs": [
        {
          "output_type": "execute_result",
          "data": {
            "text/html": [
              "<div>\n",
              "<style scoped>\n",
              "    .dataframe tbody tr th:only-of-type {\n",
              "        vertical-align: middle;\n",
              "    }\n",
              "\n",
              "    .dataframe tbody tr th {\n",
              "        vertical-align: top;\n",
              "    }\n",
              "\n",
              "    .dataframe thead th {\n",
              "        text-align: right;\n",
              "    }\n",
              "</style>\n",
              "<table border=\"1\" class=\"dataframe\">\n",
              "  <thead>\n",
              "    <tr style=\"text-align: right;\">\n",
              "      <th></th>\n",
              "      <th>Age</th>\n",
              "      <th>Gender</th>\n",
              "      <th>Education</th>\n",
              "      <th>Country</th>\n",
              "      <th>Ethnicity</th>\n",
              "      <th>NScore_Neuroticism</th>\n",
              "      <th>EScore_Extraversion</th>\n",
              "      <th>OScore_Open_to_Exp</th>\n",
              "      <th>AScore_Agreeableness</th>\n",
              "      <th>CScore_Conscientiousness</th>\n",
              "      <th>Impulsiveness</th>\n",
              "      <th>Sensation_Seeing</th>\n",
              "      <th>Alcohol</th>\n",
              "      <th>Amphetamine</th>\n",
              "      <th>Amyl</th>\n",
              "      <th>Benzos</th>\n",
              "      <th>Caffeine</th>\n",
              "      <th>Cannabis</th>\n",
              "      <th>Chocolate</th>\n",
              "      <th>Cocaine</th>\n",
              "      <th>Crack</th>\n",
              "      <th>Ecstasy</th>\n",
              "      <th>Heroin</th>\n",
              "      <th>Ketamine</th>\n",
              "      <th>Legal_Highs</th>\n",
              "      <th>LSD</th>\n",
              "      <th>Meth</th>\n",
              "      <th>Mushrooms</th>\n",
              "      <th>Nicotine</th>\n",
              "      <th>Semeron</th>\n",
              "      <th>VSA</th>\n",
              "    </tr>\n",
              "    <tr>\n",
              "      <th>ID</th>\n",
              "      <th></th>\n",
              "      <th></th>\n",
              "      <th></th>\n",
              "      <th></th>\n",
              "      <th></th>\n",
              "      <th></th>\n",
              "      <th></th>\n",
              "      <th></th>\n",
              "      <th></th>\n",
              "      <th></th>\n",
              "      <th></th>\n",
              "      <th></th>\n",
              "      <th></th>\n",
              "      <th></th>\n",
              "      <th></th>\n",
              "      <th></th>\n",
              "      <th></th>\n",
              "      <th></th>\n",
              "      <th></th>\n",
              "      <th></th>\n",
              "      <th></th>\n",
              "      <th></th>\n",
              "      <th></th>\n",
              "      <th></th>\n",
              "      <th></th>\n",
              "      <th></th>\n",
              "      <th></th>\n",
              "      <th></th>\n",
              "      <th></th>\n",
              "      <th></th>\n",
              "      <th></th>\n",
              "    </tr>\n",
              "  </thead>\n",
              "  <tbody>\n",
              "    <tr>\n",
              "      <th>2</th>\n",
              "      <td>-0.07854</td>\n",
              "      <td>-0.48246</td>\n",
              "      <td>1.98437</td>\n",
              "      <td>0.96082</td>\n",
              "      <td>-0.31685</td>\n",
              "      <td>-0.67825</td>\n",
              "      <td>1.93886</td>\n",
              "      <td>1.43533</td>\n",
              "      <td>0.76096</td>\n",
              "      <td>-0.14277</td>\n",
              "      <td>-0.71126</td>\n",
              "      <td>-0.21575</td>\n",
              "      <td>CL5</td>\n",
              "      <td>CL2</td>\n",
              "      <td>CL2</td>\n",
              "      <td>CL0</td>\n",
              "      <td>CL6</td>\n",
              "      <td>CL4</td>\n",
              "      <td>CL6</td>\n",
              "      <td>CL3</td>\n",
              "      <td>CL0</td>\n",
              "      <td>CL4</td>\n",
              "      <td>CL0</td>\n",
              "      <td>CL2</td>\n",
              "      <td>CL0</td>\n",
              "      <td>CL2</td>\n",
              "      <td>CL3</td>\n",
              "      <td>CL0</td>\n",
              "      <td>CL4</td>\n",
              "      <td>CL0</td>\n",
              "      <td>CL0</td>\n",
              "    </tr>\n",
              "    <tr>\n",
              "      <th>3</th>\n",
              "      <td>0.49788</td>\n",
              "      <td>-0.48246</td>\n",
              "      <td>-0.05921</td>\n",
              "      <td>0.96082</td>\n",
              "      <td>-0.31685</td>\n",
              "      <td>-0.46725</td>\n",
              "      <td>0.80523</td>\n",
              "      <td>-0.84732</td>\n",
              "      <td>-1.62090</td>\n",
              "      <td>-1.01450</td>\n",
              "      <td>-1.37983</td>\n",
              "      <td>0.40148</td>\n",
              "      <td>CL6</td>\n",
              "      <td>CL0</td>\n",
              "      <td>CL0</td>\n",
              "      <td>CL0</td>\n",
              "      <td>CL6</td>\n",
              "      <td>CL3</td>\n",
              "      <td>CL4</td>\n",
              "      <td>CL0</td>\n",
              "      <td>CL0</td>\n",
              "      <td>CL0</td>\n",
              "      <td>CL0</td>\n",
              "      <td>CL0</td>\n",
              "      <td>CL0</td>\n",
              "      <td>CL0</td>\n",
              "      <td>CL0</td>\n",
              "      <td>CL1</td>\n",
              "      <td>CL0</td>\n",
              "      <td>CL0</td>\n",
              "      <td>CL0</td>\n",
              "    </tr>\n",
              "    <tr>\n",
              "      <th>4</th>\n",
              "      <td>-0.95197</td>\n",
              "      <td>0.48246</td>\n",
              "      <td>1.16365</td>\n",
              "      <td>0.96082</td>\n",
              "      <td>-0.31685</td>\n",
              "      <td>-0.14882</td>\n",
              "      <td>-0.80615</td>\n",
              "      <td>-0.01928</td>\n",
              "      <td>0.59042</td>\n",
              "      <td>0.58489</td>\n",
              "      <td>-1.37983</td>\n",
              "      <td>-1.18084</td>\n",
              "      <td>CL4</td>\n",
              "      <td>CL0</td>\n",
              "      <td>CL0</td>\n",
              "      <td>CL3</td>\n",
              "      <td>CL5</td>\n",
              "      <td>CL2</td>\n",
              "      <td>CL4</td>\n",
              "      <td>CL2</td>\n",
              "      <td>CL0</td>\n",
              "      <td>CL0</td>\n",
              "      <td>CL0</td>\n",
              "      <td>CL2</td>\n",
              "      <td>CL0</td>\n",
              "      <td>CL0</td>\n",
              "      <td>CL0</td>\n",
              "      <td>CL0</td>\n",
              "      <td>CL2</td>\n",
              "      <td>CL0</td>\n",
              "      <td>CL0</td>\n",
              "    </tr>\n",
              "    <tr>\n",
              "      <th>5</th>\n",
              "      <td>0.49788</td>\n",
              "      <td>0.48246</td>\n",
              "      <td>1.98437</td>\n",
              "      <td>0.96082</td>\n",
              "      <td>-0.31685</td>\n",
              "      <td>0.73545</td>\n",
              "      <td>-1.63340</td>\n",
              "      <td>-0.45174</td>\n",
              "      <td>-0.30172</td>\n",
              "      <td>1.30612</td>\n",
              "      <td>-0.21712</td>\n",
              "      <td>-0.21575</td>\n",
              "      <td>CL4</td>\n",
              "      <td>CL1</td>\n",
              "      <td>CL1</td>\n",
              "      <td>CL0</td>\n",
              "      <td>CL6</td>\n",
              "      <td>CL3</td>\n",
              "      <td>CL6</td>\n",
              "      <td>CL0</td>\n",
              "      <td>CL0</td>\n",
              "      <td>CL1</td>\n",
              "      <td>CL0</td>\n",
              "      <td>CL0</td>\n",
              "      <td>CL1</td>\n",
              "      <td>CL0</td>\n",
              "      <td>CL0</td>\n",
              "      <td>CL2</td>\n",
              "      <td>CL2</td>\n",
              "      <td>CL0</td>\n",
              "      <td>CL0</td>\n",
              "    </tr>\n",
              "    <tr>\n",
              "      <th>6</th>\n",
              "      <td>2.59171</td>\n",
              "      <td>0.48246</td>\n",
              "      <td>-1.22751</td>\n",
              "      <td>0.24923</td>\n",
              "      <td>-0.31685</td>\n",
              "      <td>-0.67825</td>\n",
              "      <td>-0.30033</td>\n",
              "      <td>-1.55521</td>\n",
              "      <td>2.03972</td>\n",
              "      <td>1.63088</td>\n",
              "      <td>-1.37983</td>\n",
              "      <td>-1.54858</td>\n",
              "      <td>CL2</td>\n",
              "      <td>CL0</td>\n",
              "      <td>CL0</td>\n",
              "      <td>CL0</td>\n",
              "      <td>CL6</td>\n",
              "      <td>CL0</td>\n",
              "      <td>CL4</td>\n",
              "      <td>CL0</td>\n",
              "      <td>CL0</td>\n",
              "      <td>CL0</td>\n",
              "      <td>CL0</td>\n",
              "      <td>CL0</td>\n",
              "      <td>CL0</td>\n",
              "      <td>CL0</td>\n",
              "      <td>CL0</td>\n",
              "      <td>CL0</td>\n",
              "      <td>CL6</td>\n",
              "      <td>CL0</td>\n",
              "      <td>CL0</td>\n",
              "    </tr>\n",
              "  </tbody>\n",
              "</table>\n",
              "</div>"
            ],
            "text/plain": [
              "         Age    Gender Education  Country  ... Mushrooms Nicotine Semeron  VSA\n",
              "ID                                         ...                                \n",
              "2   -0.07854  -0.48246   1.98437  0.96082  ...       CL0      CL4     CL0  CL0\n",
              "3    0.49788  -0.48246  -0.05921  0.96082  ...       CL1      CL0     CL0  CL0\n",
              "4   -0.95197   0.48246   1.16365  0.96082  ...       CL0      CL2     CL0  CL0\n",
              "5    0.49788   0.48246   1.98437  0.96082  ...       CL2      CL2     CL0  CL0\n",
              "6    2.59171   0.48246  -1.22751  0.24923  ...       CL0      CL6     CL0  CL0\n",
              "\n",
              "[5 rows x 31 columns]"
            ]
          },
          "metadata": {
            "tags": []
          },
          "execution_count": 152
        }
      ]
    },
    {
      "cell_type": "code",
      "metadata": {
        "colab": {
          "base_uri": "https://localhost:8080/"
        },
        "id": "qc-FVfJIY7rd",
        "outputId": "4f095ae1-1bac-42be-b5fe-ff0042156d6d"
      },
      "source": [
        "df['Age'].nunique()"
      ],
      "execution_count": 153,
      "outputs": [
        {
          "output_type": "execute_result",
          "data": {
            "text/plain": [
              "6"
            ]
          },
          "metadata": {
            "tags": []
          },
          "execution_count": 153
        }
      ]
    },
    {
      "cell_type": "code",
      "metadata": {
        "id": "b-oetWSOn-WI"
      },
      "source": [
        "df['Age'] = df['Age'].str.replace('-0.95197', '18-24').str.replace('-0.07854', '25-34').str.replace('0.49788', '35-44').str.replace('1.09449', '45-54').str.replace('1.82213', '55-64').str.replace('2.59171', '65+')\n",
        "df['Gender'] = df['Gender'].str.replace('-0.48246', 'Female').str.replace('0.48246', 'Male')\n",
        "df['Cannabis'] = df['Cannabis'].str.replace('CL6', 'Used_24hrs').str.replace('CL5', 'Used_7days').str.replace('CL4', 'Used_Month').str.replace('CL3', 'Used_Year').str.replace('CL2', 'Used_Decade').str.replace('CL1', 'Used_Life').str.replace('CL0', 'Never_Used')\n",
        "df['Education'] = df['Education'].str.replace('-2.43591', 'Left_before_16').str.replace('-1.73790', 'Left_at_16').str.replace('-1.43719', 'Left_at_17').str.replace('-1.22751', 'Left_at_18').str.replace('-0.61113', 'Some_College').str.replace('-0.05921', 'Professional_Cert').str.replace('0.45468', 'Univ_degree').str.replace('1.16365', 'Masters_Degree').str.replace('1.98437', 'Dr_Degree')\n",
        "df['Ethnicity'] = df['Ethnicity'].str.replace('-0.50212', 'Asian').str.replace('-1.10702', 'Black').str.replace('1.90725', 'Bl_As').str.replace('0.12600', 'Wh_As').str.replace('-0.22166', 'Wh_Bl').str.replace('0.11440', 'Other').str.replace('-0.31685', 'White')\n",
        "df['Country'] = df['Country'].str.replace('-0.09765', 'Australia').str.replace('0.24923', 'Canada').str.replace('-0.46841', 'New_Zealand').str.replace('-0.28519', 'Other').str.replace('0.21128', 'Ireland').str.replace('0.96082', 'UK').str.replace('-0.57009', 'USA')\n",
        "df['Alcohol'] = df['Alcohol'].str.replace('CL6', 'Used_24hrs').str.replace('CL5', 'Used_7days').str.replace('CL4', 'Used_Month').str.replace('CL3', 'Used_Year').str.replace('CL2', 'Used_Decade').str.replace('CL1', 'Used_Life').str.replace('CL0', 'Never_Used')\n",
        "df['Amphetamine'] = df['Amphetamine'].str.replace('CL6', 'Used_24hrs').str.replace('CL5', 'Used_7days').str.replace('CL4', 'Used_Month').str.replace('CL3', 'Used_Year').str.replace('CL2', 'Used_Decade').str.replace('CL1', 'Used_Life').str.replace('CL0', 'Never_Used')\n",
        "df['Amyl'] = df['Amyl'].str.replace('CL6', 'Used_24hrs').str.replace('CL5', 'Used_7days').str.replace('CL4', 'Used_Month').str.replace('CL3', 'Used_Year').str.replace('CL2', 'Used_Decade').str.replace('CL1', 'Used_Life').str.replace('CL0', 'Never_Used')\n",
        "df['Benzos'] = df['Benzos'].str.replace('CL6', 'Used_24hrs').str.replace('CL5', 'Used_7days').str.replace('CL4', 'Used_Month').str.replace('CL3', 'Used_Year').str.replace('CL2', 'Used_Decade').str.replace('CL1', 'Used_Life').str.replace('CL0', 'Never_Used')\n",
        "df['Caffeine'] = df['Caffeine'].str.replace('CL6', 'Used_24hrs').str.replace('CL5', 'Used_7days').str.replace('CL4', 'Used_Month').str.replace('CL3', 'Used_Year').str.replace('CL2', 'Used_Decade').str.replace('CL1', 'Used_Life').str.replace('CL0', 'Never_Used')\n",
        "df['Chocolate'] = df['Chocolate'].str.replace('CL6', 'Used_24hrs').str.replace('CL5', 'Used_7days').str.replace('CL4', 'Used_Month').str.replace('CL3', 'Used_Year').str.replace('CL2', 'Used_Decade').str.replace('CL1', 'Used_Life').str.replace('CL0', 'Never_Used')\n",
        "df['Cocaine'] = df['Cocaine'].str.replace('CL6', 'Used_24hrs').str.replace('CL5', 'Used_7days').str.replace('CL4', 'Used_Month').str.replace('CL3', 'Used_Year').str.replace('CL2', 'Used_Decade').str.replace('CL1', 'Used_Life').str.replace('CL0', 'Never_Used')\n",
        "df['Crack'] = df['Crack'].str.replace('CL6', 'Used_24hrs').str.replace('CL5', 'Used_7days').str.replace('CL4', 'Used_Month').str.replace('CL3', 'Used_Year').str.replace('CL2', 'Used_Decade').str.replace('CL1', 'Used_Life').str.replace('CL0', 'Never_Used')\n",
        "df['Ecstasy'] = df['Ecstasy'].str.replace('CL6', 'Used_24hrs').str.replace('CL5', 'Used_7days').str.replace('CL4', 'Used_Month').str.replace('CL3', 'Used_Year').str.replace('CL2', 'Used_Decade').str.replace('CL1', 'Used_Life').str.replace('CL0', 'Never_Used')\n",
        "df['Heroin'] = df['Heroin'].str.replace('CL6', 'Used_24hrs').str.replace('CL5', 'Used_7days').str.replace('CL4', 'Used_Month').str.replace('CL3', 'Used_Year').str.replace('CL2', 'Used_Decade').str.replace('CL1', 'Used_Life').str.replace('CL0', 'Never_Used')\n",
        "df['Ketamine'] = df['Ketamine'].str.replace('CL6', 'Used_24hrs').str.replace('CL5', 'Used_7days').str.replace('CL4', 'Used_Month').str.replace('CL3', 'Used_Year').str.replace('CL2', 'Used_Decade').str.replace('CL1', 'Used_Life').str.replace('CL0', 'Never_Used')\n",
        "df['Legal_Highs'] = df['Legal_Highs'].str.replace('CL6', 'Used_24hrs').str.replace('CL5', 'Used_7days').str.replace('CL4', 'Used_Month').str.replace('CL3', 'Used_Year').str.replace('CL2', 'Used_Decade').str.replace('CL1', 'Used_Life').str.replace('CL0', 'Never_Used')\n",
        "df['LSD'] = df['LSD'].str.replace('CL6', 'Used_24hrs').str.replace('CL5', 'Used_7days').str.replace('CL4', 'Used_Month').str.replace('CL3', 'Used_Year').str.replace('CL2', 'Used_Decade').str.replace('CL1', 'Used_Life').str.replace('CL0', 'Never_Used')\n",
        "df['Meth'] = df['Meth'].str.replace('CL6', 'Used_24hrs').str.replace('CL5', 'Used_7days').str.replace('CL4', 'Used_Month').str.replace('CL3', 'Used_Year').str.replace('CL2', 'Used_Decade').str.replace('CL1', 'Used_Life').str.replace('CL0', 'Never_Used')\n",
        "df['Mushrooms'] = df['Mushrooms'].str.replace('CL6', 'Used_24hrs').str.replace('CL5', 'Used_7days').str.replace('CL4', 'Used_Month').str.replace('CL3', 'Used_Year').str.replace('CL2', 'Used_Decade').str.replace('CL1', 'Used_Life').str.replace('CL0', 'Never_Used')\n",
        "df['Nicotine'] = df['Nicotine'].str.replace('CL6', 'Used_24hrs').str.replace('CL5', 'Used_7days').str.replace('CL4', 'Used_Month').str.replace('CL3', 'Used_Year').str.replace('CL2', 'Used_Decade').str.replace('CL1', 'Used_Life').str.replace('CL0', 'Never_Used')\n",
        "df['Semeron'] = df['Semeron'].str.replace('CL6', 'Used_24hrs').str.replace('CL5', 'Used_7days').str.replace('CL4', 'Used_Month').str.replace('CL3', 'Used_Year').str.replace('CL2', 'Used_Decade').str.replace('CL1', 'Used_Life').str.replace('CL0', 'Never_Used')\n",
        "df['VSA'] = df['VSA'].str.replace('CL6', 'Used_24hrs').str.replace('CL5', 'Used_7days').str.replace('CL4', 'Used_Month').str.replace('CL3', 'Used_Year').str.replace('CL2', 'Used_Decade').str.replace('CL1', 'Used_Life').str.replace('CL0', 'Never_Used')"
      ],
      "execution_count": 154,
      "outputs": []
    },
    {
      "cell_type": "code",
      "metadata": {
        "id": "sZ_1gzAd220m"
      },
      "source": [
        "df['NScore_Neuroticism'] = df['NScore_Neuroticism'].astype(float)\n",
        "df['EScore_Extraversion'] = df['EScore_Extraversion'].astype(float)\n",
        "df['OScore_Open_to_Exp'] = df['OScore_Open_to_Exp'].astype(float)\n",
        "df['AScore_Agreeableness'] = df['AScore_Agreeableness'].astype(float)\n",
        "df['CScore_Conscientiousness'] = df['CScore_Conscientiousness'].astype(float)\n",
        "df['Impulsiveness'] = df['Impulsiveness'].astype(float)\n",
        "df['Sensation_Seeing'] = df['Sensation_Seeing'].astype(float)"
      ],
      "execution_count": 155,
      "outputs": []
    },
    {
      "cell_type": "code",
      "metadata": {
        "colab": {
          "base_uri": "https://localhost:8080/"
        },
        "id": "N9u5iQ1r4K7g",
        "outputId": "17598c2c-6b71-4ad6-fee6-d1ac97899360"
      },
      "source": [
        "df['Age'].value_counts(normalize= True)"
      ],
      "execution_count": 156,
      "outputs": [
        {
          "output_type": "execute_result",
          "data": {
            "text/plain": [
              "18-24    0.341295\n",
              "25-34    0.255308\n",
              "35-44    0.188429\n",
              "45-54    0.156051\n",
              "55-64    0.049363\n",
              "65+      0.009554\n",
              "Name: Age, dtype: float64"
            ]
          },
          "metadata": {
            "tags": []
          },
          "execution_count": 156
        }
      ]
    },
    {
      "cell_type": "code",
      "metadata": {
        "colab": {
          "base_uri": "https://localhost:8080/"
        },
        "id": "zpVLRLIrB5LE",
        "outputId": "03176867-b867-4929-8325-395ed45a4386"
      },
      "source": [
        "df['OScore_Open_to_Exp'].value_counts()"
      ],
      "execution_count": 157,
      "outputs": [
        {
          "output_type": "execute_result",
          "data": {
            "text/plain": [
              "-0.01928    134\n",
              " 0.29338    116\n",
              " 0.14143    107\n",
              "-0.17779    103\n",
              "-0.31776    101\n",
              " 0.44585     98\n",
              " 0.88309     87\n",
              " 0.72330     87\n",
              "-0.45174     86\n",
              "-0.58331     86\n",
              " 0.58331     83\n",
              " 1.06238     81\n",
              "-0.71727     76\n",
              "-0.84732     68\n",
              "-1.11902     64\n",
              " 1.43533     63\n",
              "-0.97631     60\n",
              " 1.24033     57\n",
              "-1.27553     51\n",
              "-1.42424     39\n",
              " 1.65653     38\n",
              " 1.88511     34\n",
              "-1.55521     26\n",
              "-1.68062     25\n",
              "-1.82919     23\n",
              " 2.15324     19\n",
              "-1.97495     13\n",
              " 2.44904     13\n",
              "-2.39883     11\n",
              "-2.21069      9\n",
              "-2.09015      9\n",
              " 2.90161      7\n",
              "-2.85950      4\n",
              "-2.63199      4\n",
              "-3.27393      2\n",
              "Name: OScore_Open_to_Exp, dtype: int64"
            ]
          },
          "metadata": {
            "tags": []
          },
          "execution_count": 157
        }
      ]
    },
    {
      "cell_type": "code",
      "metadata": {
        "colab": {
          "base_uri": "https://localhost:8080/",
          "height": 322
        },
        "id": "Oqyv0QCfcaV7",
        "outputId": "079e8d24-aeec-48e8-a359-e006340fb450"
      },
      "source": [
        "df.head()"
      ],
      "execution_count": 158,
      "outputs": [
        {
          "output_type": "execute_result",
          "data": {
            "text/html": [
              "<div>\n",
              "<style scoped>\n",
              "    .dataframe tbody tr th:only-of-type {\n",
              "        vertical-align: middle;\n",
              "    }\n",
              "\n",
              "    .dataframe tbody tr th {\n",
              "        vertical-align: top;\n",
              "    }\n",
              "\n",
              "    .dataframe thead th {\n",
              "        text-align: right;\n",
              "    }\n",
              "</style>\n",
              "<table border=\"1\" class=\"dataframe\">\n",
              "  <thead>\n",
              "    <tr style=\"text-align: right;\">\n",
              "      <th></th>\n",
              "      <th>Age</th>\n",
              "      <th>Gender</th>\n",
              "      <th>Education</th>\n",
              "      <th>Country</th>\n",
              "      <th>Ethnicity</th>\n",
              "      <th>NScore_Neuroticism</th>\n",
              "      <th>EScore_Extraversion</th>\n",
              "      <th>OScore_Open_to_Exp</th>\n",
              "      <th>AScore_Agreeableness</th>\n",
              "      <th>CScore_Conscientiousness</th>\n",
              "      <th>Impulsiveness</th>\n",
              "      <th>Sensation_Seeing</th>\n",
              "      <th>Alcohol</th>\n",
              "      <th>Amphetamine</th>\n",
              "      <th>Amyl</th>\n",
              "      <th>Benzos</th>\n",
              "      <th>Caffeine</th>\n",
              "      <th>Cannabis</th>\n",
              "      <th>Chocolate</th>\n",
              "      <th>Cocaine</th>\n",
              "      <th>Crack</th>\n",
              "      <th>Ecstasy</th>\n",
              "      <th>Heroin</th>\n",
              "      <th>Ketamine</th>\n",
              "      <th>Legal_Highs</th>\n",
              "      <th>LSD</th>\n",
              "      <th>Meth</th>\n",
              "      <th>Mushrooms</th>\n",
              "      <th>Nicotine</th>\n",
              "      <th>Semeron</th>\n",
              "      <th>VSA</th>\n",
              "    </tr>\n",
              "    <tr>\n",
              "      <th>ID</th>\n",
              "      <th></th>\n",
              "      <th></th>\n",
              "      <th></th>\n",
              "      <th></th>\n",
              "      <th></th>\n",
              "      <th></th>\n",
              "      <th></th>\n",
              "      <th></th>\n",
              "      <th></th>\n",
              "      <th></th>\n",
              "      <th></th>\n",
              "      <th></th>\n",
              "      <th></th>\n",
              "      <th></th>\n",
              "      <th></th>\n",
              "      <th></th>\n",
              "      <th></th>\n",
              "      <th></th>\n",
              "      <th></th>\n",
              "      <th></th>\n",
              "      <th></th>\n",
              "      <th></th>\n",
              "      <th></th>\n",
              "      <th></th>\n",
              "      <th></th>\n",
              "      <th></th>\n",
              "      <th></th>\n",
              "      <th></th>\n",
              "      <th></th>\n",
              "      <th></th>\n",
              "      <th></th>\n",
              "    </tr>\n",
              "  </thead>\n",
              "  <tbody>\n",
              "    <tr>\n",
              "      <th>2</th>\n",
              "      <td>25-34</td>\n",
              "      <td>Female</td>\n",
              "      <td>Dr_Degree</td>\n",
              "      <td>UK</td>\n",
              "      <td>White</td>\n",
              "      <td>-0.67825</td>\n",
              "      <td>1.93886</td>\n",
              "      <td>1.43533</td>\n",
              "      <td>0.76096</td>\n",
              "      <td>-0.14277</td>\n",
              "      <td>-0.71126</td>\n",
              "      <td>-0.21575</td>\n",
              "      <td>Used_7days</td>\n",
              "      <td>Used_Decade</td>\n",
              "      <td>Used_Decade</td>\n",
              "      <td>Never_Used</td>\n",
              "      <td>Used_24hrs</td>\n",
              "      <td>Used_Month</td>\n",
              "      <td>Used_24hrs</td>\n",
              "      <td>Used_Year</td>\n",
              "      <td>Never_Used</td>\n",
              "      <td>Used_Month</td>\n",
              "      <td>Never_Used</td>\n",
              "      <td>Used_Decade</td>\n",
              "      <td>Never_Used</td>\n",
              "      <td>Used_Decade</td>\n",
              "      <td>Used_Year</td>\n",
              "      <td>Never_Used</td>\n",
              "      <td>Used_Month</td>\n",
              "      <td>Never_Used</td>\n",
              "      <td>Never_Used</td>\n",
              "    </tr>\n",
              "    <tr>\n",
              "      <th>3</th>\n",
              "      <td>35-44</td>\n",
              "      <td>Female</td>\n",
              "      <td>Professional_Cert</td>\n",
              "      <td>UK</td>\n",
              "      <td>White</td>\n",
              "      <td>-0.46725</td>\n",
              "      <td>0.80523</td>\n",
              "      <td>-0.84732</td>\n",
              "      <td>-1.62090</td>\n",
              "      <td>-1.01450</td>\n",
              "      <td>-1.37983</td>\n",
              "      <td>0.40148</td>\n",
              "      <td>Used_24hrs</td>\n",
              "      <td>Never_Used</td>\n",
              "      <td>Never_Used</td>\n",
              "      <td>Never_Used</td>\n",
              "      <td>Used_24hrs</td>\n",
              "      <td>Used_Year</td>\n",
              "      <td>Used_Month</td>\n",
              "      <td>Never_Used</td>\n",
              "      <td>Never_Used</td>\n",
              "      <td>Never_Used</td>\n",
              "      <td>Never_Used</td>\n",
              "      <td>Never_Used</td>\n",
              "      <td>Never_Used</td>\n",
              "      <td>Never_Used</td>\n",
              "      <td>Never_Used</td>\n",
              "      <td>Used_Life</td>\n",
              "      <td>Never_Used</td>\n",
              "      <td>Never_Used</td>\n",
              "      <td>Never_Used</td>\n",
              "    </tr>\n",
              "    <tr>\n",
              "      <th>4</th>\n",
              "      <td>18-24</td>\n",
              "      <td>Male</td>\n",
              "      <td>Masters_Degree</td>\n",
              "      <td>UK</td>\n",
              "      <td>White</td>\n",
              "      <td>-0.14882</td>\n",
              "      <td>-0.80615</td>\n",
              "      <td>-0.01928</td>\n",
              "      <td>0.59042</td>\n",
              "      <td>0.58489</td>\n",
              "      <td>-1.37983</td>\n",
              "      <td>-1.18084</td>\n",
              "      <td>Used_Month</td>\n",
              "      <td>Never_Used</td>\n",
              "      <td>Never_Used</td>\n",
              "      <td>Used_Year</td>\n",
              "      <td>Used_7days</td>\n",
              "      <td>Used_Decade</td>\n",
              "      <td>Used_Month</td>\n",
              "      <td>Used_Decade</td>\n",
              "      <td>Never_Used</td>\n",
              "      <td>Never_Used</td>\n",
              "      <td>Never_Used</td>\n",
              "      <td>Used_Decade</td>\n",
              "      <td>Never_Used</td>\n",
              "      <td>Never_Used</td>\n",
              "      <td>Never_Used</td>\n",
              "      <td>Never_Used</td>\n",
              "      <td>Used_Decade</td>\n",
              "      <td>Never_Used</td>\n",
              "      <td>Never_Used</td>\n",
              "    </tr>\n",
              "    <tr>\n",
              "      <th>5</th>\n",
              "      <td>35-44</td>\n",
              "      <td>Male</td>\n",
              "      <td>Dr_Degree</td>\n",
              "      <td>UK</td>\n",
              "      <td>White</td>\n",
              "      <td>0.73545</td>\n",
              "      <td>-1.63340</td>\n",
              "      <td>-0.45174</td>\n",
              "      <td>-0.30172</td>\n",
              "      <td>1.30612</td>\n",
              "      <td>-0.21712</td>\n",
              "      <td>-0.21575</td>\n",
              "      <td>Used_Month</td>\n",
              "      <td>Used_Life</td>\n",
              "      <td>Used_Life</td>\n",
              "      <td>Never_Used</td>\n",
              "      <td>Used_24hrs</td>\n",
              "      <td>Used_Year</td>\n",
              "      <td>Used_24hrs</td>\n",
              "      <td>Never_Used</td>\n",
              "      <td>Never_Used</td>\n",
              "      <td>Used_Life</td>\n",
              "      <td>Never_Used</td>\n",
              "      <td>Never_Used</td>\n",
              "      <td>Used_Life</td>\n",
              "      <td>Never_Used</td>\n",
              "      <td>Never_Used</td>\n",
              "      <td>Used_Decade</td>\n",
              "      <td>Used_Decade</td>\n",
              "      <td>Never_Used</td>\n",
              "      <td>Never_Used</td>\n",
              "    </tr>\n",
              "    <tr>\n",
              "      <th>6</th>\n",
              "      <td>65+</td>\n",
              "      <td>Male</td>\n",
              "      <td>Left_at_18</td>\n",
              "      <td>Canada</td>\n",
              "      <td>White</td>\n",
              "      <td>-0.67825</td>\n",
              "      <td>-0.30033</td>\n",
              "      <td>-1.55521</td>\n",
              "      <td>2.03972</td>\n",
              "      <td>1.63088</td>\n",
              "      <td>-1.37983</td>\n",
              "      <td>-1.54858</td>\n",
              "      <td>Used_Decade</td>\n",
              "      <td>Never_Used</td>\n",
              "      <td>Never_Used</td>\n",
              "      <td>Never_Used</td>\n",
              "      <td>Used_24hrs</td>\n",
              "      <td>Never_Used</td>\n",
              "      <td>Used_Month</td>\n",
              "      <td>Never_Used</td>\n",
              "      <td>Never_Used</td>\n",
              "      <td>Never_Used</td>\n",
              "      <td>Never_Used</td>\n",
              "      <td>Never_Used</td>\n",
              "      <td>Never_Used</td>\n",
              "      <td>Never_Used</td>\n",
              "      <td>Never_Used</td>\n",
              "      <td>Never_Used</td>\n",
              "      <td>Used_24hrs</td>\n",
              "      <td>Never_Used</td>\n",
              "      <td>Never_Used</td>\n",
              "    </tr>\n",
              "  </tbody>\n",
              "</table>\n",
              "</div>"
            ],
            "text/plain": [
              "      Age  Gender          Education  ...     Nicotine     Semeron         VSA\n",
              "ID                                    ...                                     \n",
              "2   25-34  Female          Dr_Degree  ...   Used_Month  Never_Used  Never_Used\n",
              "3   35-44  Female  Professional_Cert  ...   Never_Used  Never_Used  Never_Used\n",
              "4   18-24    Male     Masters_Degree  ...  Used_Decade  Never_Used  Never_Used\n",
              "5   35-44    Male          Dr_Degree  ...  Used_Decade  Never_Used  Never_Used\n",
              "6     65+    Male         Left_at_18  ...   Used_24hrs  Never_Used  Never_Used\n",
              "\n",
              "[5 rows x 31 columns]"
            ]
          },
          "metadata": {
            "tags": []
          },
          "execution_count": 158
        }
      ]
    },
    {
      "cell_type": "code",
      "metadata": {
        "id": "fRO9wzaVuBNZ"
      },
      "source": [
        "# df['Alcohol'].value_counts().index.str.replace('Used_Year', 'np.nan').str.replace('Used_Decade', 'np.nan').str.replace('Used_life', 'np.nan').str.replace('Never_Used', 'np.nan')\n"
      ],
      "execution_count": 159,
      "outputs": []
    },
    {
      "cell_type": "code",
      "metadata": {
        "id": "aBIZpUiWhvm3"
      },
      "source": [
        "target = 'Meth'\n",
        "X = df.drop(columns= target)\n",
        "y = df[target]"
      ],
      "execution_count": 160,
      "outputs": []
    },
    {
      "cell_type": "code",
      "metadata": {
        "id": "sDkKYyIk2r5J"
      },
      "source": [
        "X_train, X_val, y_train, y_val = train_test_split(X, y, test_size= 0.2, random_state= 42)\n"
      ],
      "execution_count": 161,
      "outputs": []
    },
    {
      "cell_type": "code",
      "metadata": {
        "colab": {
          "base_uri": "https://localhost:8080/"
        },
        "id": "N0C03RCEgNzx",
        "outputId": "a28e5223-463c-4b20-8cd5-cfcc11b5e00e"
      },
      "source": [
        "print(X_train.shape)\n",
        "print(y_train.shape)\n",
        "print(X_val.shape)\n",
        "print(y_val.shape)"
      ],
      "execution_count": 162,
      "outputs": [
        {
          "output_type": "stream",
          "text": [
            "(1507, 30)\n",
            "(1507,)\n",
            "(377, 30)\n",
            "(377,)\n"
          ],
          "name": "stdout"
        }
      ]
    },
    {
      "cell_type": "code",
      "metadata": {
        "id": "QVtCwhjIidGV"
      },
      "source": [
        "from sklearn.model_selection import GridSearchCV "
      ],
      "execution_count": 163,
      "outputs": []
    },
    {
      "cell_type": "code",
      "metadata": {
        "colab": {
          "base_uri": "https://localhost:8080/"
        },
        "id": "8gD28JXN2xXQ",
        "outputId": "02e55fad-551e-4d47-e446-35eaa93b5b0a"
      },
      "source": [
        "model_rf = make_pipeline(OrdinalEncoder(),\n",
        "                         SimpleImputer(),\n",
        "                         RandomForestClassifier(max_depth= 10, n_jobs= -1))\n",
        "\n",
        "model_rf.fit(X_train, y_train)\n",
        "print('Validation Score: ', model_rf.score(X_val, y_val))"
      ],
      "execution_count": 164,
      "outputs": [
        {
          "output_type": "stream",
          "text": [
            "Validation Score:  0.7718832891246684\n"
          ],
          "name": "stdout"
        }
      ]
    },
    {
      "cell_type": "code",
      "metadata": {
        "colab": {
          "base_uri": "https://localhost:8080/"
        },
        "id": "F2E6bJ5VhMKV",
        "outputId": "9035b025-0ce8-4d79-908f-6a57a2a28295"
      },
      "source": [
        "print('Baseline accuracy ', y_train.value_counts(normalize= True).max())"
      ],
      "execution_count": 165,
      "outputs": [
        {
          "output_type": "stream",
          "text": [
            "Baseline accuracy  0.7551426675514267\n"
          ],
          "name": "stdout"
        }
      ]
    },
    {
      "cell_type": "code",
      "metadata": {
        "colab": {
          "base_uri": "https://localhost:8080/",
          "height": 233
        },
        "id": "y9dz4Xal7VTi",
        "outputId": "1fc0b8b4-7170-4bde-c244-be8538daa6ae"
      },
      "source": [
        "df_numerical = df.select_dtypes(exclude= 'object')\n",
        "df_numerical.head()"
      ],
      "execution_count": 166,
      "outputs": [
        {
          "output_type": "execute_result",
          "data": {
            "text/html": [
              "<div>\n",
              "<style scoped>\n",
              "    .dataframe tbody tr th:only-of-type {\n",
              "        vertical-align: middle;\n",
              "    }\n",
              "\n",
              "    .dataframe tbody tr th {\n",
              "        vertical-align: top;\n",
              "    }\n",
              "\n",
              "    .dataframe thead th {\n",
              "        text-align: right;\n",
              "    }\n",
              "</style>\n",
              "<table border=\"1\" class=\"dataframe\">\n",
              "  <thead>\n",
              "    <tr style=\"text-align: right;\">\n",
              "      <th></th>\n",
              "      <th>NScore_Neuroticism</th>\n",
              "      <th>EScore_Extraversion</th>\n",
              "      <th>OScore_Open_to_Exp</th>\n",
              "      <th>AScore_Agreeableness</th>\n",
              "      <th>CScore_Conscientiousness</th>\n",
              "      <th>Impulsiveness</th>\n",
              "      <th>Sensation_Seeing</th>\n",
              "    </tr>\n",
              "    <tr>\n",
              "      <th>ID</th>\n",
              "      <th></th>\n",
              "      <th></th>\n",
              "      <th></th>\n",
              "      <th></th>\n",
              "      <th></th>\n",
              "      <th></th>\n",
              "      <th></th>\n",
              "    </tr>\n",
              "  </thead>\n",
              "  <tbody>\n",
              "    <tr>\n",
              "      <th>2</th>\n",
              "      <td>-0.67825</td>\n",
              "      <td>1.93886</td>\n",
              "      <td>1.43533</td>\n",
              "      <td>0.76096</td>\n",
              "      <td>-0.14277</td>\n",
              "      <td>-0.71126</td>\n",
              "      <td>-0.21575</td>\n",
              "    </tr>\n",
              "    <tr>\n",
              "      <th>3</th>\n",
              "      <td>-0.46725</td>\n",
              "      <td>0.80523</td>\n",
              "      <td>-0.84732</td>\n",
              "      <td>-1.62090</td>\n",
              "      <td>-1.01450</td>\n",
              "      <td>-1.37983</td>\n",
              "      <td>0.40148</td>\n",
              "    </tr>\n",
              "    <tr>\n",
              "      <th>4</th>\n",
              "      <td>-0.14882</td>\n",
              "      <td>-0.80615</td>\n",
              "      <td>-0.01928</td>\n",
              "      <td>0.59042</td>\n",
              "      <td>0.58489</td>\n",
              "      <td>-1.37983</td>\n",
              "      <td>-1.18084</td>\n",
              "    </tr>\n",
              "    <tr>\n",
              "      <th>5</th>\n",
              "      <td>0.73545</td>\n",
              "      <td>-1.63340</td>\n",
              "      <td>-0.45174</td>\n",
              "      <td>-0.30172</td>\n",
              "      <td>1.30612</td>\n",
              "      <td>-0.21712</td>\n",
              "      <td>-0.21575</td>\n",
              "    </tr>\n",
              "    <tr>\n",
              "      <th>6</th>\n",
              "      <td>-0.67825</td>\n",
              "      <td>-0.30033</td>\n",
              "      <td>-1.55521</td>\n",
              "      <td>2.03972</td>\n",
              "      <td>1.63088</td>\n",
              "      <td>-1.37983</td>\n",
              "      <td>-1.54858</td>\n",
              "    </tr>\n",
              "  </tbody>\n",
              "</table>\n",
              "</div>"
            ],
            "text/plain": [
              "    NScore_Neuroticism  EScore_Extraversion  ...  Impulsiveness  Sensation_Seeing\n",
              "ID                                           ...                                 \n",
              "2             -0.67825              1.93886  ...       -0.71126          -0.21575\n",
              "3             -0.46725              0.80523  ...       -1.37983           0.40148\n",
              "4             -0.14882             -0.80615  ...       -1.37983          -1.18084\n",
              "5              0.73545             -1.63340  ...       -0.21712          -0.21575\n",
              "6             -0.67825             -0.30033  ...       -1.37983          -1.54858\n",
              "\n",
              "[5 rows x 7 columns]"
            ]
          },
          "metadata": {
            "tags": []
          },
          "execution_count": 166
        }
      ]
    },
    {
      "cell_type": "code",
      "metadata": {
        "id": "7udDq-jqp7cK"
      },
      "source": [
        "# from sklearn.preprocessing import StandardScaler\n",
        "# from sklearn.model_selection import GridSearchCV\n",
        "\n",
        "# model_rscv = make_pipeline(StandardScaler(),\n",
        "#                          OrdinalEncoder(),\n",
        "#                          GridSearchCV(estimator= 'logisticregression', n_jobs= -1))"
      ],
      "execution_count": 167,
      "outputs": []
    },
    {
      "cell_type": "code",
      "metadata": {
        "id": "3Aw10oZQ6PlB"
      },
      "source": [
        ""
      ],
      "execution_count": 167,
      "outputs": []
    },
    {
      "cell_type": "code",
      "metadata": {
        "id": "qtCnUevu3CY9",
        "colab": {
          "base_uri": "https://localhost:8080/",
          "height": 350
        },
        "outputId": "f9da2ad1-26ad-4097-a78a-325acbc28d30"
      },
      "source": [
        "rf = model_rf.named_steps['randomforestclassifier']\n",
        "importances = pd.Series(rf.feature_importances_, X_train.columns)\n",
        "\n",
        "n = 10\n",
        "plt.figure(figsize=(10,n/2))\n",
        "plt.title(f'Top {n} features')\n",
        "importances.sort_values()[-n:].plot.barh(color='grey')\n",
        "plt.xlabel('Meth Use')\n",
        "plt.ylabel('Features');"
      ],
      "execution_count": 168,
      "outputs": [
        {
          "output_type": "display_data",
          "data": {
            "image/png": "[encoded data removed]",
            "text/plain": [
              "<Figure size 720x360 with 1 Axes>"
            ]
          },
          "metadata": {
            "tags": [],
            "needs_background": "light"
          }
        }
      ]
    },
    {
      "cell_type": "code",
      "metadata": {
        "id": "88cxbzwz748Y"
      },
      "source": [
        "from xgboost import XGBClassifier\n",
        "\n",
        "model_boost = make_pipeline(OrdinalEncoder(),\n",
        "                            SimpleImputer(strategy= 'median'),\n",
        "                            XGBClassifier(n_estimators= 75, learning_rate= 0.2,\n",
        "                                          random_state= 42))\n",
        "model_boost.fit(X_train, y_train);"
      ],
      "execution_count": 169,
      "outputs": []
    },
    {
      "cell_type": "code",
      "metadata": {
        "id": "Trh2MjIrh194",
        "colab": {
          "base_uri": "https://localhost:8080/"
        },
        "outputId": "45cae2c2-4d51-4b15-e535-ef4a842af10e"
      },
      "source": [
        "model_boost.score(X_val, y_val)"
      ],
      "execution_count": 170,
      "outputs": [
        {
          "output_type": "execute_result",
          "data": {
            "text/plain": [
              "0.7798408488063661"
            ]
          },
          "metadata": {
            "tags": []
          },
          "execution_count": 170
        }
      ]
    },
    {
      "cell_type": "code",
      "metadata": {
        "id": "8zjEULEZzN7Y"
      },
      "source": [
        "df_cat = df.select_dtypes(exclude= 'number')"
      ],
      "execution_count": 171,
      "outputs": []
    },
    {
      "cell_type": "code",
      "metadata": {
        "colab": {
          "base_uri": "https://localhost:8080/",
          "height": 322
        },
        "id": "7Q7-PVu3z80d",
        "outputId": "029f0e30-62ba-49f8-ff17-84ebb44104ae"
      },
      "source": [
        "# df_cat['Education'].value_counts(normalize= True).index\n",
        "df_cat.head()"
      ],
      "execution_count": 172,
      "outputs": [
        {
          "output_type": "execute_result",
          "data": {
            "text/html": [
              "<div>\n",
              "<style scoped>\n",
              "    .dataframe tbody tr th:only-of-type {\n",
              "        vertical-align: middle;\n",
              "    }\n",
              "\n",
              "    .dataframe tbody tr th {\n",
              "        vertical-align: top;\n",
              "    }\n",
              "\n",
              "    .dataframe thead th {\n",
              "        text-align: right;\n",
              "    }\n",
              "</style>\n",
              "<table border=\"1\" class=\"dataframe\">\n",
              "  <thead>\n",
              "    <tr style=\"text-align: right;\">\n",
              "      <th></th>\n",
              "      <th>Age</th>\n",
              "      <th>Gender</th>\n",
              "      <th>Education</th>\n",
              "      <th>Country</th>\n",
              "      <th>Ethnicity</th>\n",
              "      <th>Alcohol</th>\n",
              "      <th>Amphetamine</th>\n",
              "      <th>Amyl</th>\n",
              "      <th>Benzos</th>\n",
              "      <th>Caffeine</th>\n",
              "      <th>Cannabis</th>\n",
              "      <th>Chocolate</th>\n",
              "      <th>Cocaine</th>\n",
              "      <th>Crack</th>\n",
              "      <th>Ecstasy</th>\n",
              "      <th>Heroin</th>\n",
              "      <th>Ketamine</th>\n",
              "      <th>Legal_Highs</th>\n",
              "      <th>LSD</th>\n",
              "      <th>Meth</th>\n",
              "      <th>Mushrooms</th>\n",
              "      <th>Nicotine</th>\n",
              "      <th>Semeron</th>\n",
              "      <th>VSA</th>\n",
              "    </tr>\n",
              "    <tr>\n",
              "      <th>ID</th>\n",
              "      <th></th>\n",
              "      <th></th>\n",
              "      <th></th>\n",
              "      <th></th>\n",
              "      <th></th>\n",
              "      <th></th>\n",
              "      <th></th>\n",
              "      <th></th>\n",
              "      <th></th>\n",
              "      <th></th>\n",
              "      <th></th>\n",
              "      <th></th>\n",
              "      <th></th>\n",
              "      <th></th>\n",
              "      <th></th>\n",
              "      <th></th>\n",
              "      <th></th>\n",
              "      <th></th>\n",
              "      <th></th>\n",
              "      <th></th>\n",
              "      <th></th>\n",
              "      <th></th>\n",
              "      <th></th>\n",
              "      <th></th>\n",
              "    </tr>\n",
              "  </thead>\n",
              "  <tbody>\n",
              "    <tr>\n",
              "      <th>2</th>\n",
              "      <td>25-34</td>\n",
              "      <td>Female</td>\n",
              "      <td>Dr_Degree</td>\n",
              "      <td>UK</td>\n",
              "      <td>White</td>\n",
              "      <td>Used_7days</td>\n",
              "      <td>Used_Decade</td>\n",
              "      <td>Used_Decade</td>\n",
              "      <td>Never_Used</td>\n",
              "      <td>Used_24hrs</td>\n",
              "      <td>Used_Month</td>\n",
              "      <td>Used_24hrs</td>\n",
              "      <td>Used_Year</td>\n",
              "      <td>Never_Used</td>\n",
              "      <td>Used_Month</td>\n",
              "      <td>Never_Used</td>\n",
              "      <td>Used_Decade</td>\n",
              "      <td>Never_Used</td>\n",
              "      <td>Used_Decade</td>\n",
              "      <td>Used_Year</td>\n",
              "      <td>Never_Used</td>\n",
              "      <td>Used_Month</td>\n",
              "      <td>Never_Used</td>\n",
              "      <td>Never_Used</td>\n",
              "    </tr>\n",
              "    <tr>\n",
              "      <th>3</th>\n",
              "      <td>35-44</td>\n",
              "      <td>Female</td>\n",
              "      <td>Professional_Cert</td>\n",
              "      <td>UK</td>\n",
              "      <td>White</td>\n",
              "      <td>Used_24hrs</td>\n",
              "      <td>Never_Used</td>\n",
              "      <td>Never_Used</td>\n",
              "      <td>Never_Used</td>\n",
              "      <td>Used_24hrs</td>\n",
              "      <td>Used_Year</td>\n",
              "      <td>Used_Month</td>\n",
              "      <td>Never_Used</td>\n",
              "      <td>Never_Used</td>\n",
              "      <td>Never_Used</td>\n",
              "      <td>Never_Used</td>\n",
              "      <td>Never_Used</td>\n",
              "      <td>Never_Used</td>\n",
              "      <td>Never_Used</td>\n",
              "      <td>Never_Used</td>\n",
              "      <td>Used_Life</td>\n",
              "      <td>Never_Used</td>\n",
              "      <td>Never_Used</td>\n",
              "      <td>Never_Used</td>\n",
              "    </tr>\n",
              "    <tr>\n",
              "      <th>4</th>\n",
              "      <td>18-24</td>\n",
              "      <td>Male</td>\n",
              "      <td>Masters_Degree</td>\n",
              "      <td>UK</td>\n",
              "      <td>White</td>\n",
              "      <td>Used_Month</td>\n",
              "      <td>Never_Used</td>\n",
              "      <td>Never_Used</td>\n",
              "      <td>Used_Year</td>\n",
              "      <td>Used_7days</td>\n",
              "      <td>Used_Decade</td>\n",
              "      <td>Used_Month</td>\n",
              "      <td>Used_Decade</td>\n",
              "      <td>Never_Used</td>\n",
              "      <td>Never_Used</td>\n",
              "      <td>Never_Used</td>\n",
              "      <td>Used_Decade</td>\n",
              "      <td>Never_Used</td>\n",
              "      <td>Never_Used</td>\n",
              "      <td>Never_Used</td>\n",
              "      <td>Never_Used</td>\n",
              "      <td>Used_Decade</td>\n",
              "      <td>Never_Used</td>\n",
              "      <td>Never_Used</td>\n",
              "    </tr>\n",
              "    <tr>\n",
              "      <th>5</th>\n",
              "      <td>35-44</td>\n",
              "      <td>Male</td>\n",
              "      <td>Dr_Degree</td>\n",
              "      <td>UK</td>\n",
              "      <td>White</td>\n",
              "      <td>Used_Month</td>\n",
              "      <td>Used_Life</td>\n",
              "      <td>Used_Life</td>\n",
              "      <td>Never_Used</td>\n",
              "      <td>Used_24hrs</td>\n",
              "      <td>Used_Year</td>\n",
              "      <td>Used_24hrs</td>\n",
              "      <td>Never_Used</td>\n",
              "      <td>Never_Used</td>\n",
              "      <td>Used_Life</td>\n",
              "      <td>Never_Used</td>\n",
              "      <td>Never_Used</td>\n",
              "      <td>Used_Life</td>\n",
              "      <td>Never_Used</td>\n",
              "      <td>Never_Used</td>\n",
              "      <td>Used_Decade</td>\n",
              "      <td>Used_Decade</td>\n",
              "      <td>Never_Used</td>\n",
              "      <td>Never_Used</td>\n",
              "    </tr>\n",
              "    <tr>\n",
              "      <th>6</th>\n",
              "      <td>65+</td>\n",
              "      <td>Male</td>\n",
              "      <td>Left_at_18</td>\n",
              "      <td>Canada</td>\n",
              "      <td>White</td>\n",
              "      <td>Used_Decade</td>\n",
              "      <td>Never_Used</td>\n",
              "      <td>Never_Used</td>\n",
              "      <td>Never_Used</td>\n",
              "      <td>Used_24hrs</td>\n",
              "      <td>Never_Used</td>\n",
              "      <td>Used_Month</td>\n",
              "      <td>Never_Used</td>\n",
              "      <td>Never_Used</td>\n",
              "      <td>Never_Used</td>\n",
              "      <td>Never_Used</td>\n",
              "      <td>Never_Used</td>\n",
              "      <td>Never_Used</td>\n",
              "      <td>Never_Used</td>\n",
              "      <td>Never_Used</td>\n",
              "      <td>Never_Used</td>\n",
              "      <td>Used_24hrs</td>\n",
              "      <td>Never_Used</td>\n",
              "      <td>Never_Used</td>\n",
              "    </tr>\n",
              "  </tbody>\n",
              "</table>\n",
              "</div>"
            ],
            "text/plain": [
              "      Age  Gender          Education  ...     Nicotine     Semeron         VSA\n",
              "ID                                    ...                                     \n",
              "2   25-34  Female          Dr_Degree  ...   Used_Month  Never_Used  Never_Used\n",
              "3   35-44  Female  Professional_Cert  ...   Never_Used  Never_Used  Never_Used\n",
              "4   18-24    Male     Masters_Degree  ...  Used_Decade  Never_Used  Never_Used\n",
              "5   35-44    Male          Dr_Degree  ...  Used_Decade  Never_Used  Never_Used\n",
              "6     65+    Male         Left_at_18  ...   Used_24hrs  Never_Used  Never_Used\n",
              "\n",
              "[5 rows x 24 columns]"
            ]
          },
          "metadata": {
            "tags": []
          },
          "execution_count": 172
        }
      ]
    },
    {
      "cell_type": "code",
      "metadata": {
        "id": "WGghhP1j057a"
      },
      "source": [
        "target= 'Amphetamine'\n",
        "X2 = df_cat.drop(columns= target)\n",
        "y2 = df_cat[target]\n",
        "\n",
        "X2_train, X2_val, y2_train, y2_val = train_test_split(X2, y2, test_size= 0.3, \n",
        "                                                      random_state= 42)"
      ],
      "execution_count": 173,
      "outputs": []
    },
    {
      "cell_type": "code",
      "metadata": {
        "id": "t8tiW5_bz-NP"
      },
      "source": [
        "model_boost_cat = make_pipeline(OrdinalEncoder(),\n",
        "                            SimpleImputer(strategy= 'median'),\n",
        "                            XGBClassifier(n_estimators= 75, learning_rate= 0.4,\n",
        "                                          random_state= 42))\n",
        "model_boost_cat.fit(X2_train, y2_train);"
      ],
      "execution_count": 174,
      "outputs": []
    },
    {
      "cell_type": "code",
      "metadata": {
        "colab": {
          "base_uri": "https://localhost:8080/"
        },
        "id": "W4LafaCz3HaJ",
        "outputId": "2cfdbd98-b084-4ac5-e37e-96e8fcb30631"
      },
      "source": [
        "model_boost_cat.get_params()"
      ],
      "execution_count": 175,
      "outputs": [
        {
          "output_type": "execute_result",
          "data": {
            "text/plain": [
              "{'memory': None,\n",
              " 'ordinalencoder': OrdinalEncoder(cols=['Age', 'Gender', 'Education', 'Country', 'Ethnicity',\n",
              "                      'Alcohol', 'Amyl', 'Benzos', 'Caffeine', 'Cannabis',\n",
              "                      'Chocolate', 'Cocaine', 'Crack', 'Ecstasy', 'Heroin',\n",
              "                      'Ketamine', 'Legal_Highs', 'LSD', 'Meth', 'Mushrooms',\n",
              "                      'Nicotine', 'Semeron', 'VSA'],\n",
              "                drop_invariant=False, handle_missing='value',\n",
              "                handle_unknown='value',\n",
              "                mapping=[{'col': 'Age', 'data_type': dtyp...\n",
              " Used_Decade    4\n",
              " Used_7days     5\n",
              " Used_Life      6\n",
              " Used_Month     7\n",
              " NaN           -2\n",
              " dtype: int64},\n",
              "                         {'col': 'Semeron', 'data_type': dtype('O'),\n",
              "                          'mapping': Never_Used     1\n",
              " Used_Month     2\n",
              " Used_Year      3\n",
              " Used_Decade    4\n",
              " Used_Life      5\n",
              " NaN           -2\n",
              " dtype: int64},\n",
              "                         {'col': 'VSA', 'data_type': dtype('O'),\n",
              "                          'mapping': Used_Decade    1\n",
              " Used_Life      2\n",
              " Never_Used     3\n",
              " Used_Year      4\n",
              " Used_Month     5\n",
              " Used_7days     6\n",
              " Used_24hrs     7\n",
              " NaN           -2\n",
              " dtype: int64}],\n",
              "                return_df=True, verbose=0),\n",
              " 'ordinalencoder__cols': ['Age',\n",
              "  'Gender',\n",
              "  'Education',\n",
              "  'Country',\n",
              "  'Ethnicity',\n",
              "  'Alcohol',\n",
              "  'Amyl',\n",
              "  'Benzos',\n",
              "  'Caffeine',\n",
              "  'Cannabis',\n",
              "  'Chocolate',\n",
              "  'Cocaine',\n",
              "  'Crack',\n",
              "  'Ecstasy',\n",
              "  'Heroin',\n",
              "  'Ketamine',\n",
              "  'Legal_Highs',\n",
              "  'LSD',\n",
              "  'Meth',\n",
              "  'Mushrooms',\n",
              "  'Nicotine',\n",
              "  'Semeron',\n",
              "  'VSA'],\n",
              " 'ordinalencoder__drop_invariant': False,\n",
              " 'ordinalencoder__handle_missing': 'value',\n",
              " 'ordinalencoder__handle_unknown': 'value',\n",
              " 'ordinalencoder__mapping': [{'col': 'Age',\n",
              "   'data_type': dtype('O'),\n",
              "   'mapping': 18-24    1\n",
              "   25-34    2\n",
              "   45-54    3\n",
              "   35-44    4\n",
              "   55-64    5\n",
              "   65+      6\n",
              "   NaN     -2\n",
              "   dtype: int64},\n",
              "  {'col': 'Gender', 'data_type': dtype('O'), 'mapping': Male      1\n",
              "   Female    2\n",
              "   NaN      -2\n",
              "   dtype: int64},\n",
              "  {'col': 'Education',\n",
              "   'data_type': dtype('O'),\n",
              "   'mapping': Univ_degree          1\n",
              "   Some_College         2\n",
              "   Masters_Degree       3\n",
              "   Professional_Cert    4\n",
              "   Left_at_16           5\n",
              "   Left_before_16       6\n",
              "   Left_at_17           7\n",
              "   Dr_Degree            8\n",
              "   Left_at_18           9\n",
              "   NaN                 -2\n",
              "   dtype: int64},\n",
              "  {'col': 'Country', 'data_type': dtype('O'), 'mapping': Other          1\n",
              "   USA            2\n",
              "   UK             3\n",
              "   Canada         4\n",
              "   Australia      5\n",
              "   Ireland        6\n",
              "   New_Zealand    7\n",
              "   NaN           -2\n",
              "   dtype: int64},\n",
              "  {'col': 'Ethnicity', 'data_type': dtype('O'), 'mapping': White    1\n",
              "   Asian    2\n",
              "   Other    3\n",
              "   Wh_As    4\n",
              "   Wh_Bl    5\n",
              "   Black    6\n",
              "   Bl_As    7\n",
              "   NaN     -2\n",
              "   dtype: int64},\n",
              "  {'col': 'Alcohol', 'data_type': dtype('O'), 'mapping': Used_Month     1\n",
              "   Used_Decade    2\n",
              "   Never_Used     3\n",
              "   Used_7days     4\n",
              "   Used_24hrs     5\n",
              "   Used_Year      6\n",
              "   Used_Life      7\n",
              "   NaN           -2\n",
              "   dtype: int64},\n",
              "  {'col': 'Amyl', 'data_type': dtype('O'), 'mapping': Used_Decade    1\n",
              "   Never_Used     2\n",
              "   Used_Life      3\n",
              "   Used_Year      4\n",
              "   Used_Month     5\n",
              "   Used_7days     6\n",
              "   Used_24hrs     7\n",
              "   NaN           -2\n",
              "   dtype: int64},\n",
              "  {'col': 'Benzos', 'data_type': dtype('O'), 'mapping': Used_Year      1\n",
              "   Used_24hrs     2\n",
              "   Never_Used     3\n",
              "   Used_7days     4\n",
              "   Used_Life      5\n",
              "   Used_Decade    6\n",
              "   Used_Month     7\n",
              "   NaN           -2\n",
              "   dtype: int64},\n",
              "  {'col': 'Caffeine', 'data_type': dtype('O'), 'mapping': Used_Year      1\n",
              "   Used_24hrs     2\n",
              "   Used_7days     3\n",
              "   Used_Month     4\n",
              "   Never_Used     5\n",
              "   Used_Decade    6\n",
              "   Used_Life      7\n",
              "   NaN           -2\n",
              "   dtype: int64},\n",
              "  {'col': 'Cannabis', 'data_type': dtype('O'), 'mapping': Used_Month     1\n",
              "   Used_Year      2\n",
              "   Never_Used     3\n",
              "   Used_7days     4\n",
              "   Used_24hrs     5\n",
              "   Used_Life      6\n",
              "   Used_Decade    7\n",
              "   NaN           -2\n",
              "   dtype: int64},\n",
              "  {'col': 'Chocolate', 'data_type': dtype('O'), 'mapping': Used_Month     1\n",
              "   Used_Year      2\n",
              "   Used_7days     3\n",
              "   Used_24hrs     4\n",
              "   Never_Used     5\n",
              "   Used_Decade    6\n",
              "   Used_Life      7\n",
              "   NaN           -2\n",
              "   dtype: int64},\n",
              "  {'col': 'Cocaine', 'data_type': dtype('O'), 'mapping': Never_Used     1\n",
              "   Used_Year      2\n",
              "   Used_Month     3\n",
              "   Used_Decade    4\n",
              "   Used_24hrs     5\n",
              "   Used_Life      6\n",
              "   Used_7days     7\n",
              "   NaN           -2\n",
              "   dtype: int64},\n",
              "  {'col': 'Crack', 'data_type': dtype('O'), 'mapping': Never_Used     1\n",
              "   Used_Decade    2\n",
              "   Used_Month     3\n",
              "   Used_Year      4\n",
              "   Used_Life      5\n",
              "   Used_7days     6\n",
              "   Used_24hrs     7\n",
              "   NaN           -2\n",
              "   dtype: int64},\n",
              "  {'col': 'Ecstasy', 'data_type': dtype('O'), 'mapping': Used_Month     1\n",
              "   Used_Decade    2\n",
              "   Never_Used     3\n",
              "   Used_Year      4\n",
              "   Used_24hrs     5\n",
              "   Used_7days     6\n",
              "   Used_Life      7\n",
              "   NaN           -2\n",
              "   dtype: int64},\n",
              "  {'col': 'Heroin', 'data_type': dtype('O'), 'mapping': Never_Used     1\n",
              "   Used_Year      2\n",
              "   Used_7days     3\n",
              "   Used_Decade    4\n",
              "   Used_Life      5\n",
              "   Used_Month     6\n",
              "   Used_24hrs     7\n",
              "   NaN           -2\n",
              "   dtype: int64},\n",
              "  {'col': 'Ketamine', 'data_type': dtype('O'), 'mapping': Used_Year      1\n",
              "   Never_Used     2\n",
              "   Used_Decade    3\n",
              "   Used_7days     4\n",
              "   Used_Month     5\n",
              "   Used_Life      6\n",
              "   Used_24hrs     7\n",
              "   NaN           -2\n",
              "   dtype: int64},\n",
              "  {'col': 'Legal_Highs', 'data_type': dtype('O'), 'mapping': Used_Year      1\n",
              "   Never_Used     2\n",
              "   Used_Month     3\n",
              "   Used_Decade    4\n",
              "   Used_7days     5\n",
              "   Used_Life      6\n",
              "   Used_24hrs     7\n",
              "   NaN           -2\n",
              "   dtype: int64},\n",
              "  {'col': 'LSD', 'data_type': dtype('O'), 'mapping': Used_Year      1\n",
              "   Used_Decade    2\n",
              "   Never_Used     3\n",
              "   Used_24hrs     4\n",
              "   Used_7days     5\n",
              "   Used_Month     6\n",
              "   Used_Life      7\n",
              "   NaN           -2\n",
              "   dtype: int64},\n",
              "  {'col': 'Meth', 'data_type': dtype('O'), 'mapping': Used_Year      1\n",
              "   Never_Used     2\n",
              "   Used_Decade    3\n",
              "   Used_24hrs     4\n",
              "   Used_Month     5\n",
              "   Used_7days     6\n",
              "   Used_Life      7\n",
              "   NaN           -2\n",
              "   dtype: int64},\n",
              "  {'col': 'Mushrooms', 'data_type': dtype('O'), 'mapping': Used_Decade    1\n",
              "   Used_Year      2\n",
              "   Never_Used     3\n",
              "   Used_Life      4\n",
              "   Used_Month     5\n",
              "   Used_7days     6\n",
              "   Used_24hrs     7\n",
              "   NaN           -2\n",
              "   dtype: int64},\n",
              "  {'col': 'Nicotine', 'data_type': dtype('O'), 'mapping': Used_Year      1\n",
              "   Used_24hrs     2\n",
              "   Never_Used     3\n",
              "   Used_Decade    4\n",
              "   Used_7days     5\n",
              "   Used_Life      6\n",
              "   Used_Month     7\n",
              "   NaN           -2\n",
              "   dtype: int64},\n",
              "  {'col': 'Semeron', 'data_type': dtype('O'), 'mapping': Never_Used     1\n",
              "   Used_Month     2\n",
              "   Used_Year      3\n",
              "   Used_Decade    4\n",
              "   Used_Life      5\n",
              "   NaN           -2\n",
              "   dtype: int64},\n",
              "  {'col': 'VSA', 'data_type': dtype('O'), 'mapping': Used_Decade    1\n",
              "   Used_Life      2\n",
              "   Never_Used     3\n",
              "   Used_Year      4\n",
              "   Used_Month     5\n",
              "   Used_7days     6\n",
              "   Used_24hrs     7\n",
              "   NaN           -2\n",
              "   dtype: int64}],\n",
              " 'ordinalencoder__return_df': True,\n",
              " 'ordinalencoder__verbose': 0,\n",
              " 'simpleimputer': SimpleImputer(add_indicator=False, copy=True, fill_value=None,\n",
              "               missing_values=nan, strategy='median', verbose=0),\n",
              " 'simpleimputer__add_indicator': False,\n",
              " 'simpleimputer__copy': True,\n",
              " 'simpleimputer__fill_value': None,\n",
              " 'simpleimputer__missing_values': nan,\n",
              " 'simpleimputer__strategy': 'median',\n",
              " 'simpleimputer__verbose': 0,\n",
              " 'steps': [('ordinalencoder',\n",
              "   OrdinalEncoder(cols=['Age', 'Gender', 'Education', 'Country', 'Ethnicity',\n",
              "                        'Alcohol', 'Amyl', 'Benzos', 'Caffeine', 'Cannabis',\n",
              "                        'Chocolate', 'Cocaine', 'Crack', 'Ecstasy', 'Heroin',\n",
              "                        'Ketamine', 'Legal_Highs', 'LSD', 'Meth', 'Mushrooms',\n",
              "                        'Nicotine', 'Semeron', 'VSA'],\n",
              "                  drop_invariant=False, handle_missing='value',\n",
              "                  handle_unknown='value',\n",
              "                  mapping=[{'col': 'Age', 'data_type': dtyp...\n",
              "   Used_Decade    4\n",
              "   Used_7days     5\n",
              "   Used_Life      6\n",
              "   Used_Month     7\n",
              "   NaN           -2\n",
              "   dtype: int64},\n",
              "                           {'col': 'Semeron', 'data_type': dtype('O'),\n",
              "                            'mapping': Never_Used     1\n",
              "   Used_Month     2\n",
              "   Used_Year      3\n",
              "   Used_Decade    4\n",
              "   Used_Life      5\n",
              "   NaN           -2\n",
              "   dtype: int64},\n",
              "                           {'col': 'VSA', 'data_type': dtype('O'),\n",
              "                            'mapping': Used_Decade    1\n",
              "   Used_Life      2\n",
              "   Never_Used     3\n",
              "   Used_Year      4\n",
              "   Used_Month     5\n",
              "   Used_7days     6\n",
              "   Used_24hrs     7\n",
              "   NaN           -2\n",
              "   dtype: int64}],\n",
              "                  return_df=True, verbose=0)),\n",
              "  ('simpleimputer',\n",
              "   SimpleImputer(add_indicator=False, copy=True, fill_value=None,\n",
              "                 missing_values=nan, strategy='median', verbose=0)),\n",
              "  ('xgbclassifier',\n",
              "   XGBClassifier(base_score=0.5, booster='gbtree', colsample_bylevel=1,\n",
              "                 colsample_bynode=1, colsample_bytree=1, gamma=0,\n",
              "                 learning_rate=0.4, max_delta_step=0, max_depth=3,\n",
              "                 min_child_weight=1, missing=None, n_estimators=75, n_jobs=1,\n",
              "                 nthread=None, objective='multi:softprob', random_state=42,\n",
              "                 reg_alpha=0, reg_lambda=1, scale_pos_weight=1, seed=None,\n",
              "                 silent=None, subsample=1, verbosity=1))],\n",
              " 'verbose': False,\n",
              " 'xgbclassifier': XGBClassifier(base_score=0.5, booster='gbtree', colsample_bylevel=1,\n",
              "               colsample_bynode=1, colsample_bytree=1, gamma=0,\n",
              "               learning_rate=0.4, max_delta_step=0, max_depth=3,\n",
              "               min_child_weight=1, missing=None, n_estimators=75, n_jobs=1,\n",
              "               nthread=None, objective='multi:softprob', random_state=42,\n",
              "               reg_alpha=0, reg_lambda=1, scale_pos_weight=1, seed=None,\n",
              "               silent=None, subsample=1, verbosity=1),\n",
              " 'xgbclassifier__base_score': 0.5,\n",
              " 'xgbclassifier__booster': 'gbtree',\n",
              " 'xgbclassifier__colsample_bylevel': 1,\n",
              " 'xgbclassifier__colsample_bynode': 1,\n",
              " 'xgbclassifier__colsample_bytree': 1,\n",
              " 'xgbclassifier__gamma': 0,\n",
              " 'xgbclassifier__learning_rate': 0.4,\n",
              " 'xgbclassifier__max_delta_step': 0,\n",
              " 'xgbclassifier__max_depth': 3,\n",
              " 'xgbclassifier__min_child_weight': 1,\n",
              " 'xgbclassifier__missing': None,\n",
              " 'xgbclassifier__n_estimators': 75,\n",
              " 'xgbclassifier__n_jobs': 1,\n",
              " 'xgbclassifier__nthread': None,\n",
              " 'xgbclassifier__objective': 'multi:softprob',\n",
              " 'xgbclassifier__random_state': 42,\n",
              " 'xgbclassifier__reg_alpha': 0,\n",
              " 'xgbclassifier__reg_lambda': 1,\n",
              " 'xgbclassifier__scale_pos_weight': 1,\n",
              " 'xgbclassifier__seed': None,\n",
              " 'xgbclassifier__silent': None,\n",
              " 'xgbclassifier__subsample': 1,\n",
              " 'xgbclassifier__verbosity': 1}"
            ]
          },
          "metadata": {
            "tags": []
          },
          "execution_count": 175
        }
      ]
    },
    {
      "cell_type": "code",
      "metadata": {
        "colab": {
          "base_uri": "https://localhost:8080/"
        },
        "id": "MVQsBtPC3U2W",
        "outputId": "67409d20-fc40-42ba-a21e-cbf779b67ea1"
      },
      "source": [
        "baseline_acc2 = y2_train.value_counts(normalize= True).max()\n",
        "print('Baseline Accuracy 2 ', baseline_acc2)"
      ],
      "execution_count": 176,
      "outputs": [
        {
          "output_type": "stream",
          "text": [
            "Baseline Accuracy 2  0.5098634294385432\n"
          ],
          "name": "stdout"
        }
      ]
    },
    {
      "cell_type": "code",
      "metadata": {
        "colab": {
          "base_uri": "https://localhost:8080/",
          "height": 350
        },
        "id": "ufdYYQ7U4ZDC",
        "outputId": "c4493e94-c311-48fb-82d2-4265bcdef3b4"
      },
      "source": [
        "boost_cat = model_boost_cat.named_steps['xgbclassifier']\n",
        "importances_cat = pd.Series(boost_cat.feature_importances_, X2_val.columns)\n",
        "\n",
        "n = 10\n",
        "plt.figure(figsize=(10,n/2))\n",
        "plt.title(f'Top {n} features')\n",
        "importances_cat.sort_values()[-n:].plot.barh(color= 'blue')\n",
        "plt.xlabel('Feature Importance with relation to Amphetamine')\n",
        "plt.ylabel('Features');"
      ],
      "execution_count": 177,
      "outputs": [
        {
          "output_type": "display_data",
          "data": {
            "image/png": "[encoded data removed]",
            "text/plain": [
              "<Figure size 720x360 with 1 Axes>"
            ]
          },
          "metadata": {
            "tags": [],
            "needs_background": "light"
          }
        }
      ]
    },
    {
      "cell_type": "code",
      "metadata": {
        "colab": {
          "base_uri": "https://localhost:8080/"
        },
        "id": "NfVwzOdollbI",
        "outputId": "aa5b5c65-3a11-4bc5-f497-24b69e0ecaef"
      },
      "source": [
        "df_numerical.shape"
      ],
      "execution_count": 178,
      "outputs": [
        {
          "output_type": "execute_result",
          "data": {
            "text/plain": [
              "(1884, 7)"
            ]
          },
          "metadata": {
            "tags": []
          },
          "execution_count": 178
        }
      ]
    },
    {
      "cell_type": "code",
      "metadata": {
        "id": "f62i_dExpoaE"
      },
      "source": [
        "heroin = df_cat['Heroin']\n",
        "cannabis = df_cat['Cannabis']\n",
        "meth = df_cat['Meth']\n",
        "alcohol = df_cat['Alcohol']\n",
        "age_group = df_cat['Age']\n",
        "O_score = df_numerical['OScore_Open_to_Exp']\n",
        "C_score = df_numerical['CScore_Conscientiousness']\n",
        "E_score = df_numerical['EScore_Extraversion']\n",
        "A_score = df_numerical['AScore_Agreeableness']\n",
        "N_score = df_numerical['NScore_Neuroticism']\n",
        "impulsiveness = df_numerical['Impulsiveness']\n",
        "sen_seeing = df_numerical['Sensation_Seeing']\n"
      ],
      "execution_count": 179,
      "outputs": []
    },
    {
      "cell_type": "code",
      "metadata": {
        "colab": {
          "base_uri": "https://localhost:8080/",
          "height": 363
        },
        "id": "sPW8kOtI4705",
        "outputId": "a85dbe0c-7c75-436e-a558-2e6d384ff7b2"
      },
      "source": [
        "import seaborn as sns\n",
        "\n",
        "sns.catplot(x= N_score, y= alcohol);"
      ],
      "execution_count": 203,
      "outputs": [
        {
          "output_type": "error",
          "ename": "TypeError",
          "evalue": "ignored",
          "traceback": [
            "\u001b[0;31m---------------------------------------------------------------------------\u001b[0m",
            "\u001b[0;31mTypeError\u001b[0m                                 Traceback (most recent call last)",
            "\u001b[0;32m<ipython-input-203-432c34137c2b>\u001b[0m in \u001b[0;36m<module>\u001b[0;34m()\u001b[0m\n\u001b[1;32m      1\u001b[0m \u001b[0;32mimport\u001b[0m \u001b[0mseaborn\u001b[0m \u001b[0;32mas\u001b[0m \u001b[0msns\u001b[0m\u001b[0;34m\u001b[0m\u001b[0;34m\u001b[0m\u001b[0m\n\u001b[1;32m      2\u001b[0m \u001b[0;34m\u001b[0m\u001b[0m\n\u001b[0;32m----> 3\u001b[0;31m \u001b[0msns\u001b[0m\u001b[0;34m.\u001b[0m\u001b[0mcatplot\u001b[0m\u001b[0;34m(\u001b[0m\u001b[0mx\u001b[0m\u001b[0;34m=\u001b[0m \u001b[0mN_score\u001b[0m\u001b[0;34m,\u001b[0m \u001b[0my\u001b[0m\u001b[0;34m=\u001b[0m \u001b[0malcohol\u001b[0m\u001b[0;34m)\u001b[0m\u001b[0;34m;\u001b[0m\u001b[0;34m\u001b[0m\u001b[0;34m\u001b[0m\u001b[0m\n\u001b[0m",
            "\u001b[0;32m/usr/local/lib/python3.7/dist-packages/seaborn/_decorators.py\u001b[0m in \u001b[0;36minner_f\u001b[0;34m(*args, **kwargs)\u001b[0m\n\u001b[1;32m     44\u001b[0m             )\n\u001b[1;32m     45\u001b[0m         \u001b[0mkwargs\u001b[0m\u001b[0;34m.\u001b[0m\u001b[0mupdate\u001b[0m\u001b[0;34m(\u001b[0m\u001b[0;34m{\u001b[0m\u001b[0mk\u001b[0m\u001b[0;34m:\u001b[0m \u001b[0marg\u001b[0m \u001b[0;32mfor\u001b[0m \u001b[0mk\u001b[0m\u001b[0;34m,\u001b[0m \u001b[0marg\u001b[0m \u001b[0;32min\u001b[0m \u001b[0mzip\u001b[0m\u001b[0;34m(\u001b[0m\u001b[0msig\u001b[0m\u001b[0;34m.\u001b[0m\u001b[0mparameters\u001b[0m\u001b[0;34m,\u001b[0m \u001b[0margs\u001b[0m\u001b[0;34m)\u001b[0m\u001b[0;34m}\u001b[0m\u001b[0;34m)\u001b[0m\u001b[0;34m\u001b[0m\u001b[0;34m\u001b[0m\u001b[0m\n\u001b[0;32m---> 46\u001b[0;31m         \u001b[0;32mreturn\u001b[0m \u001b[0mf\u001b[0m\u001b[0;34m(\u001b[0m\u001b[0;34m**\u001b[0m\u001b[0mkwargs\u001b[0m\u001b[0;34m)\u001b[0m\u001b[0;34m\u001b[0m\u001b[0;34m\u001b[0m\u001b[0m\n\u001b[0m\u001b[1;32m     47\u001b[0m     \u001b[0;32mreturn\u001b[0m \u001b[0minner_f\u001b[0m\u001b[0;34m\u001b[0m\u001b[0;34m\u001b[0m\u001b[0m\n\u001b[1;32m     48\u001b[0m \u001b[0;34m\u001b[0m\u001b[0m\n",
            "\u001b[0;32m/usr/local/lib/python3.7/dist-packages/seaborn/categorical.py\u001b[0m in \u001b[0;36mcatplot\u001b[0;34m(x, y, hue, data, row, col, col_wrap, estimator, ci, n_boot, units, seed, order, hue_order, row_order, col_order, kind, height, aspect, orient, color, palette, legend, legend_out, sharex, sharey, margin_titles, facet_kws, **kwargs)\u001b[0m\n\u001b[1;32m   3839\u001b[0m \u001b[0;34m\u001b[0m\u001b[0m\n\u001b[1;32m   3840\u001b[0m     \u001b[0;31m# Initialize the facets\u001b[0m\u001b[0;34m\u001b[0m\u001b[0;34m\u001b[0m\u001b[0;34m\u001b[0m\u001b[0m\n\u001b[0;32m-> 3841\u001b[0;31m     \u001b[0mg\u001b[0m \u001b[0;34m=\u001b[0m \u001b[0mFacetGrid\u001b[0m\u001b[0;34m(\u001b[0m\u001b[0;34m**\u001b[0m\u001b[0mfacet_kws\u001b[0m\u001b[0;34m)\u001b[0m\u001b[0;34m\u001b[0m\u001b[0;34m\u001b[0m\u001b[0m\n\u001b[0m\u001b[1;32m   3842\u001b[0m \u001b[0;34m\u001b[0m\u001b[0m\n\u001b[1;32m   3843\u001b[0m     \u001b[0;31m# Draw the plot onto the facets\u001b[0m\u001b[0;34m\u001b[0m\u001b[0;34m\u001b[0m\u001b[0;34m\u001b[0m\u001b[0m\n",
            "\u001b[0;32m/usr/local/lib/python3.7/dist-packages/seaborn/_decorators.py\u001b[0m in \u001b[0;36minner_f\u001b[0;34m(*args, **kwargs)\u001b[0m\n\u001b[1;32m     44\u001b[0m             )\n\u001b[1;32m     45\u001b[0m         \u001b[0mkwargs\u001b[0m\u001b[0;34m.\u001b[0m\u001b[0mupdate\u001b[0m\u001b[0;34m(\u001b[0m\u001b[0;34m{\u001b[0m\u001b[0mk\u001b[0m\u001b[0;34m:\u001b[0m \u001b[0marg\u001b[0m \u001b[0;32mfor\u001b[0m \u001b[0mk\u001b[0m\u001b[0;34m,\u001b[0m \u001b[0marg\u001b[0m \u001b[0;32min\u001b[0m \u001b[0mzip\u001b[0m\u001b[0;34m(\u001b[0m\u001b[0msig\u001b[0m\u001b[0;34m.\u001b[0m\u001b[0mparameters\u001b[0m\u001b[0;34m,\u001b[0m \u001b[0margs\u001b[0m\u001b[0;34m)\u001b[0m\u001b[0;34m}\u001b[0m\u001b[0;34m)\u001b[0m\u001b[0;34m\u001b[0m\u001b[0;34m\u001b[0m\u001b[0m\n\u001b[0;32m---> 46\u001b[0;31m         \u001b[0;32mreturn\u001b[0m \u001b[0mf\u001b[0m\u001b[0;34m(\u001b[0m\u001b[0;34m**\u001b[0m\u001b[0mkwargs\u001b[0m\u001b[0;34m)\u001b[0m\u001b[0;34m\u001b[0m\u001b[0;34m\u001b[0m\u001b[0m\n\u001b[0m\u001b[1;32m     47\u001b[0m     \u001b[0;32mreturn\u001b[0m \u001b[0minner_f\u001b[0m\u001b[0;34m\u001b[0m\u001b[0;34m\u001b[0m\u001b[0m\n\u001b[1;32m     48\u001b[0m \u001b[0;34m\u001b[0m\u001b[0m\n",
            "\u001b[0;32m/usr/local/lib/python3.7/dist-packages/seaborn/axisgrid.py\u001b[0m in \u001b[0;36m__init__\u001b[0;34m(self, data, row, col, hue, col_wrap, sharex, sharey, height, aspect, palette, row_order, col_order, hue_order, hue_kws, dropna, legend_out, despine, margin_titles, xlim, ylim, subplot_kws, gridspec_kws, size)\u001b[0m\n\u001b[1;32m    341\u001b[0m         \u001b[0;31m# Make a boolean mask that is True anywhere there is an NA\u001b[0m\u001b[0;34m\u001b[0m\u001b[0;34m\u001b[0m\u001b[0;34m\u001b[0m\u001b[0m\n\u001b[1;32m    342\u001b[0m         \u001b[0;31m# value in one of the faceting variables, but only if dropna is True\u001b[0m\u001b[0;34m\u001b[0m\u001b[0;34m\u001b[0m\u001b[0;34m\u001b[0m\u001b[0m\n\u001b[0;32m--> 343\u001b[0;31m         \u001b[0mnone_na\u001b[0m \u001b[0;34m=\u001b[0m \u001b[0mnp\u001b[0m\u001b[0;34m.\u001b[0m\u001b[0mzeros\u001b[0m\u001b[0;34m(\u001b[0m\u001b[0mlen\u001b[0m\u001b[0;34m(\u001b[0m\u001b[0mdata\u001b[0m\u001b[0;34m)\u001b[0m\u001b[0;34m,\u001b[0m \u001b[0mbool\u001b[0m\u001b[0;34m)\u001b[0m\u001b[0;34m\u001b[0m\u001b[0;34m\u001b[0m\u001b[0m\n\u001b[0m\u001b[1;32m    344\u001b[0m         \u001b[0;32mif\u001b[0m \u001b[0mdropna\u001b[0m\u001b[0;34m:\u001b[0m\u001b[0;34m\u001b[0m\u001b[0;34m\u001b[0m\u001b[0m\n\u001b[1;32m    345\u001b[0m             \u001b[0mrow_na\u001b[0m \u001b[0;34m=\u001b[0m \u001b[0mnone_na\u001b[0m \u001b[0;32mif\u001b[0m \u001b[0mrow\u001b[0m \u001b[0;32mis\u001b[0m \u001b[0;32mNone\u001b[0m \u001b[0;32melse\u001b[0m \u001b[0mdata\u001b[0m\u001b[0;34m[\u001b[0m\u001b[0mrow\u001b[0m\u001b[0;34m]\u001b[0m\u001b[0;34m.\u001b[0m\u001b[0misnull\u001b[0m\u001b[0;34m(\u001b[0m\u001b[0;34m)\u001b[0m\u001b[0;34m\u001b[0m\u001b[0;34m\u001b[0m\u001b[0m\n",
            "\u001b[0;31mTypeError\u001b[0m: object of type 'NoneType' has no len()"
          ]
        }
      ]
    },
    {
      "cell_type": "markdown",
      "metadata": {
        "id": "7Teseiq0XWh9"
      },
      "source": [
        "##### **O-Score(Openness)** is a person's willingness to be open to new ideas and experiences.  Scoring is again, very similar to the the E-Score in the sense that a higher positive score indicates you are more likely to experiment with various substances.\n",
        "\n",
        "##### **C-Score(Conscientiousness)** shows organization vs chaos. At the highest end of the scale, perfectionism and OCD are prevalent.  On the lowest end of the scale would be those who act before thinking and spontaneous individuals. \n",
        "\n",
        "##### **E-Score(Extraversion)** in this scenario uses 0 as a start point and a positive score indicating you are more extroverted while a negative score indicates a personality that is more introverted.\n",
        "\n",
        "##### **A-Score(Agreeableness)** is how agreeable or prone to persuasion an individual is. Someone with a higher score is more likely to be a people pleaser, while someone with a low score is more likely to be invested in personal interests.\n",
        "\n",
        "##### **N-Score(Neuroticism)** is scored on a scale of 0-12. A score of 0-6 means there is a general lack of Neuroticism present and 6-12 indicates a positive result for Neuroticism.  In this case, we will be using a scale from 0.0 to 1.2 with 0.6 being the cutoff.\n"
      ]
    },
    {
      "cell_type": "code",
      "metadata": {
        "id": "bt1YgFDalFeW"
      },
      "source": [
        "clr = classification_report(y2_val, model_boost_cat.predict(X2_val))"
      ],
      "execution_count": null,
      "outputs": []
    },
    {
      "cell_type": "code",
      "metadata": {
        "id": "wCL0X8ABxkez"
      },
      "source": [
        "print(clr)"
      ],
      "execution_count": null,
      "outputs": []
    },
    {
      "cell_type": "code",
      "metadata": {
        "id": "10pvgLLFyPsD"
      },
      "source": [
        ""
      ],
      "execution_count": null,
      "outputs": []
    }
  ]
}